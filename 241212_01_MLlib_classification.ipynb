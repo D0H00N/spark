{
 "cells": [
  {
   "cell_type": "code",
   "execution_count": 25,
   "id": "08e1ac5b",
   "metadata": {
    "scrolled": true
   },
   "outputs": [],
   "source": [
    "from pyspark.sql import SparkSession\n",
    "spark = SparkSession.builder.appName(\"241212_01_MLlib_classification\").getOrCreate()"
   ]
  },
  {
   "cell_type": "markdown",
   "id": "4772cbf7",
   "metadata": {},
   "source": [
    "## data load"
   ]
  },
  {
   "cell_type": "code",
   "execution_count": 26,
   "id": "c440b882",
   "metadata": {},
   "outputs": [],
   "source": [
    "#df = spark.read.csv('data/titanic.csv', header=True, inferSchema=True)"
   ]
  },
  {
   "cell_type": "code",
   "execution_count": 27,
   "id": "d5212841",
   "metadata": {},
   "outputs": [],
   "source": [
    "df = spark.read.format('csv')\\\n",
    "    .option('header', 'true')\\\n",
    "    .option('inferSchema', 'true')\\\n",
    "    .load('data/titanic.csv')"
   ]
  },
  {
   "cell_type": "code",
   "execution_count": 28,
   "id": "b7f9270e",
   "metadata": {},
   "outputs": [
    {
     "name": "stdout",
     "output_type": "stream",
     "text": [
      "+--------+------+------+----+-----+-----+-------+-----------+\n",
      "|survived|pclass|   sex| age|sibsp|parch|   fare|embark_town|\n",
      "+--------+------+------+----+-----+-----+-------+-----------+\n",
      "|       0|     3|  male|22.0|    1|    0|   7.25|Southampton|\n",
      "|       1|     1|female|38.0|    1|    0|71.2833|  Cherbourg|\n",
      "|       1|     3|female|26.0|    0|    0|  7.925|Southampton|\n",
      "|       1|     1|female|35.0|    1|    0|   53.1|Southampton|\n",
      "|       0|     3|  male|35.0|    0|    0|   8.05|Southampton|\n",
      "|       0|     3|  male|null|    0|    0| 8.4583| Queenstown|\n",
      "|       0|     1|  male|54.0|    0|    0|51.8625|Southampton|\n",
      "|       0|     3|  male| 2.0|    3|    1| 21.075|Southampton|\n",
      "|       1|     3|female|27.0|    0|    2|11.1333|Southampton|\n",
      "|       1|     2|female|14.0|    1|    0|30.0708|  Cherbourg|\n",
      "+--------+------+------+----+-----+-----+-------+-----------+\n",
      "only showing top 10 rows\n",
      "\n"
     ]
    }
   ],
   "source": [
    "df.show(10)"
   ]
  },
  {
   "cell_type": "markdown",
   "id": "a5908b94",
   "metadata": {},
   "source": [
    "## missing value 결측치 처리"
   ]
  },
  {
   "cell_type": "code",
   "execution_count": 29,
   "id": "fc28efeb",
   "metadata": {},
   "outputs": [
    {
     "name": "stdout",
     "output_type": "stream",
     "text": [
      "+--------+------+---+---+-----+-----+----+-----------+\n",
      "|survived|pclass|sex|age|sibsp|parch|fare|embark_town|\n",
      "+--------+------+---+---+-----+-----+----+-----------+\n",
      "|       0|     0|  0|177|    0|    0|   0|          2|\n",
      "+--------+------+---+---+-----+-----+----+-----------+\n",
      "\n"
     ]
    }
   ],
   "source": [
    "from pyspark.sql.functions import col,sum,isnan, when\n",
    "\n",
    "null_counts = df.select(\n",
    "    [\n",
    "        sum(when(col(c).isNull() | isnan(c), 1).otherwise(0)).alias(c) for c in df.columns\n",
    "    ]\n",
    "\n",
    ")\n",
    "null_counts.show()"
   ]
  },
  {
   "cell_type": "markdown",
   "id": "f9668452",
   "metadata": {},
   "source": [
    "## feature selection"
   ]
  },
  {
   "cell_type": "code",
   "execution_count": 30,
   "id": "26f81531",
   "metadata": {
    "scrolled": true
   },
   "outputs": [
    {
     "name": "stdout",
     "output_type": "stream",
     "text": [
      "+--------+------+------+----+-----+-----+-------+\n",
      "|survived|pclass|   sex| age|sibsp|parch|   fare|\n",
      "+--------+------+------+----+-----+-----+-------+\n",
      "|       0|     3|  male|22.0|    1|    0|   7.25|\n",
      "|       1|     1|female|38.0|    1|    0|71.2833|\n",
      "|       1|     3|female|26.0|    0|    0|  7.925|\n",
      "|       1|     1|female|35.0|    1|    0|   53.1|\n",
      "|       0|     3|  male|35.0|    0|    0|   8.05|\n",
      "+--------+------+------+----+-----+-----+-------+\n",
      "only showing top 5 rows\n",
      "\n"
     ]
    }
   ],
   "source": [
    "# feature(X) - ?? , target(y) - survived\n",
    "data = df.select('survived','pclass', 'sex', 'age', 'sibsp','parch','fare')\n",
    "data.show(5)"
   ]
  },
  {
   "cell_type": "code",
   "execution_count": 31,
   "id": "d3f0ec61",
   "metadata": {},
   "outputs": [
    {
     "data": {
      "text/plain": [
       "29.69911764705882"
      ]
     },
     "execution_count": 31,
     "metadata": {},
     "output_type": "execute_result"
    }
   ],
   "source": [
    "#평균값으로 대체\n",
    "mean_age = data.select('age').agg({'age' : 'mean'}).collect()[0][0]\n",
    "mean_age"
   ]
  },
  {
   "cell_type": "code",
   "execution_count": 32,
   "id": "7b4e82bb",
   "metadata": {},
   "outputs": [
    {
     "name": "stdout",
     "output_type": "stream",
     "text": [
      "+--------+------+------+-----------------+-----+-----+-------+\n",
      "|survived|pclass|   sex|              age|sibsp|parch|   fare|\n",
      "+--------+------+------+-----------------+-----+-----+-------+\n",
      "|       0|     3|  male|             22.0|    1|    0|   7.25|\n",
      "|       1|     1|female|             38.0|    1|    0|71.2833|\n",
      "|       1|     3|female|             26.0|    0|    0|  7.925|\n",
      "|       1|     1|female|             35.0|    1|    0|   53.1|\n",
      "|       0|     3|  male|             35.0|    0|    0|   8.05|\n",
      "|       0|     3|  male|29.69911764705882|    0|    0| 8.4583|\n",
      "|       0|     1|  male|             54.0|    0|    0|51.8625|\n",
      "|       0|     3|  male|              2.0|    3|    1| 21.075|\n",
      "|       1|     3|female|             27.0|    0|    2|11.1333|\n",
      "|       1|     2|female|             14.0|    1|    0|30.0708|\n",
      "+--------+------+------+-----------------+-----+-----+-------+\n",
      "only showing top 10 rows\n",
      "\n"
     ]
    }
   ],
   "source": [
    "data = data.fillna({'age' : mean_age})\n",
    "data.show(10)"
   ]
  },
  {
   "cell_type": "markdown",
   "id": "963afba3",
   "metadata": {},
   "source": [
    "# encoding \n",
    "\n",
    "category type - numeric"
   ]
  },
  {
   "cell_type": "code",
   "execution_count": 33,
   "id": "75166f3e",
   "metadata": {
    "scrolled": true
   },
   "outputs": [
    {
     "name": "stdout",
     "output_type": "stream",
     "text": [
      "+--------+------+------+----+-----+-----+-------+--------+\n",
      "|survived|pclass|   sex| age|sibsp|parch|   fare|SexIndex|\n",
      "+--------+------+------+----+-----+-----+-------+--------+\n",
      "|       0|     3|  male|22.0|    1|    0|   7.25|     0.0|\n",
      "|       1|     1|female|38.0|    1|    0|71.2833|     1.0|\n",
      "|       1|     3|female|26.0|    0|    0|  7.925|     1.0|\n",
      "|       1|     1|female|35.0|    1|    0|   53.1|     1.0|\n",
      "|       0|     3|  male|35.0|    0|    0|   8.05|     0.0|\n",
      "+--------+------+------+----+-----+-----+-------+--------+\n",
      "only showing top 5 rows\n",
      "\n"
     ]
    }
   ],
   "source": [
    "from pyspark.ml.feature import StringIndexer, VectorAssembler\n",
    "\n",
    "indexer = StringIndexer(inputCol='sex', outputCol='SexIndex')\n",
    "data = indexer.fit(data).transform(data)\n",
    "data.show(5)"
   ]
  },
  {
   "cell_type": "markdown",
   "id": "05d47fa3",
   "metadata": {},
   "source": [
    "# feature vector"
   ]
  },
  {
   "cell_type": "code",
   "execution_count": 34,
   "id": "24b5284c",
   "metadata": {
    "scrolled": true
   },
   "outputs": [
    {
     "data": {
      "text/plain": [
       "DataFrame[survived: int, pclass: int, sex: string, age: double, sibsp: int, parch: int, fare: double, SexIndex: double, features: vector]"
      ]
     },
     "execution_count": 34,
     "metadata": {},
     "output_type": "execute_result"
    }
   ],
   "source": [
    "#target 을 제외한 학습을 위한 피처를 \"features\" 라는 이름으로 어셈블한다.\n",
    "\n",
    "assembler = VectorAssembler(\n",
    "    inputCols=[\"pclass\", \"SexIndex\", \"age\", \"sibsp\", \"parch\", \"fare\"],\n",
    "    outputCol=\"features\"\n",
    ")\n",
    "data = assembler.transform(data)\n",
    "data"
   ]
  },
  {
   "cell_type": "code",
   "execution_count": 35,
   "id": "97567402",
   "metadata": {},
   "outputs": [
    {
     "name": "stdout",
     "output_type": "stream",
     "text": [
      "+--------+--------------------+\n",
      "|survived|            features|\n",
      "+--------+--------------------+\n",
      "|       0|[3.0,0.0,22.0,1.0...|\n",
      "|       1|[1.0,1.0,38.0,1.0...|\n",
      "|       1|[3.0,1.0,26.0,0.0...|\n",
      "|       1|[1.0,1.0,35.0,1.0...|\n",
      "|       0|[3.0,0.0,35.0,0.0...|\n",
      "+--------+--------------------+\n",
      "only showing top 5 rows\n",
      "\n"
     ]
    }
   ],
   "source": [
    "# 지도 학습, 분류 모델 학습 시키기 위한 데이터\n",
    "data.select('survived','features').show(5)"
   ]
  },
  {
   "cell_type": "markdown",
   "id": "99e36429",
   "metadata": {},
   "source": [
    "ML 모델 : 데이터 학습 > 평가 > 모델 완성"
   ]
  },
  {
   "cell_type": "markdown",
   "id": "da58ca9b",
   "metadata": {},
   "source": [
    "# dataset 분할"
   ]
  },
  {
   "cell_type": "code",
   "execution_count": 36,
   "id": "2f8eb8f0",
   "metadata": {},
   "outputs": [],
   "source": [
    "train_data, test_data = data.randomSplit([0.8, 0.2], seed = 42 ) #리턴값목록, 목록2"
   ]
  },
  {
   "cell_type": "code",
   "execution_count": 37,
   "id": "7776e392",
   "metadata": {},
   "outputs": [
    {
     "name": "stdout",
     "output_type": "stream",
     "text": [
      "+--------+------+------+----+-----+-----+------+--------+--------------------+\n",
      "|survived|pclass|   sex| age|sibsp|parch|  fare|SexIndex|            features|\n",
      "+--------+------+------+----+-----+-----+------+--------+--------------------+\n",
      "|       0|     1|female| 2.0|    1|    2|151.55|     1.0|[1.0,1.0,2.0,1.0,...|\n",
      "|       0|     1|female|25.0|    1|    2|151.55|     1.0|[1.0,1.0,25.0,1.0...|\n",
      "|       0|     1|  male|18.0|    1|    0| 108.9|     0.0|[1.0,0.0,18.0,1.0...|\n",
      "|       0|     1|  male|19.0|    1|    0|  53.1|     0.0|[1.0,0.0,19.0,1.0...|\n",
      "|       0|     1|  male|19.0|    3|    2| 263.0|     0.0|[1.0,0.0,19.0,3.0...|\n",
      "+--------+------+------+----+-----+-----+------+--------+--------------------+\n",
      "only showing top 5 rows\n",
      "\n",
      "+--------+------+------+-----------------+-----+-----+-------+--------+--------------------+\n",
      "|survived|pclass|   sex|              age|sibsp|parch|   fare|SexIndex|            features|\n",
      "+--------+------+------+-----------------+-----+-----+-------+--------+--------------------+\n",
      "|       0|     1|female|             50.0|    0|    0|28.7125|     1.0|[1.0,1.0,50.0,0.0...|\n",
      "|       0|     1|  male|             21.0|    0|    1|77.2875|     0.0|[1.0,0.0,21.0,0.0...|\n",
      "|       0|     1|  male|             24.0|    0|    0|   79.2|     0.0|[1.0,0.0,24.0,0.0...|\n",
      "|       0|     1|  male|             29.0|    0|    0|   30.0|     0.0|[1.0,0.0,29.0,0.0...|\n",
      "|       0|     1|  male|29.69911764705882|    0|    0|  26.55|     0.0|[1.0,0.0,29.69911...|\n",
      "+--------+------+------+-----------------+-----+-----+-------+--------+--------------------+\n",
      "only showing top 5 rows\n",
      "\n"
     ]
    },
    {
     "data": {
      "text/plain": [
       "(None, None)"
      ]
     },
     "execution_count": 37,
     "metadata": {},
     "output_type": "execute_result"
    }
   ],
   "source": [
    "train_data.show(5), test_data.show(5)"
   ]
  },
  {
   "cell_type": "markdown",
   "id": "8da0b93a",
   "metadata": {},
   "source": [
    "# 분류 예측 model 생성 - 로지스틱 회귀\n",
    "\n",
    "분류모델 : 라벨(타겟), 피쳐"
   ]
  },
  {
   "cell_type": "code",
   "execution_count": 38,
   "id": "453ae5f3",
   "metadata": {},
   "outputs": [],
   "source": [
    "from pyspark.ml.classification import LogisticRegression"
   ]
  },
  {
   "cell_type": "code",
   "execution_count": 39,
   "id": "fb2bbc7f",
   "metadata": {},
   "outputs": [],
   "source": [
    "#로지스틱 회귀 모델 생성\n",
    "lr = LogisticRegression(featuresCol=\"features\", labelCol=\"survived\")"
   ]
  },
  {
   "cell_type": "code",
   "execution_count": 40,
   "id": "eef6ff64",
   "metadata": {},
   "outputs": [],
   "source": [
    "#모델 학습\n",
    "lr_model = lr.fit( train_data ) # 80% > 라벨,타겟 - y값 결정할 수 있게 매개변수 확정"
   ]
  },
  {
   "cell_type": "code",
   "execution_count": 41,
   "id": "eb8dd227",
   "metadata": {},
   "outputs": [
    {
     "name": "stdout",
     "output_type": "stream",
     "text": [
      "+--------+------+------+-----------------+-----+-----+-------+--------+--------------------+--------------------+--------------------+----------+\n",
      "|survived|pclass|   sex|              age|sibsp|parch|   fare|SexIndex|            features|       rawPrediction|         probability|prediction|\n",
      "+--------+------+------+-----------------+-----+-----+-------+--------+--------------------+--------------------+--------------------+----------+\n",
      "|       0|     1|female|             50.0|    0|    0|28.7125|     1.0|[1.0,1.0,50.0,0.0...|[-1.9520246347246...|[0.12433276014445...|       1.0|\n",
      "|       0|     1|  male|             21.0|    0|    1|77.2875|     0.0|[1.0,0.0,21.0,0.0...|[-0.5063684917057...|[0.37604522093222...|       1.0|\n",
      "|       0|     1|  male|             24.0|    0|    0|   79.2|     0.0|[1.0,0.0,24.0,0.0...|[-0.5000163743656...|[0.37753682076914...|       1.0|\n",
      "|       0|     1|  male|             29.0|    0|    0|   30.0|     0.0|[1.0,0.0,29.0,0.0...|[-0.1615623337462...|[0.45969704539401...|       1.0|\n",
      "|       0|     1|  male|29.69911764705882|    0|    0|  26.55|     0.0|[1.0,0.0,29.69911...|[-0.1231865060676...|[0.46924225915865...|       1.0|\n",
      "+--------+------+------+-----------------+-----+-----+-------+--------+--------------------+--------------------+--------------------+----------+\n",
      "only showing top 5 rows\n",
      "\n"
     ]
    }
   ],
   "source": [
    "# '테스트' 데이터 > 결과 확인 - 답과 모델이 낸 y값 비교\n",
    "predictions = lr_model.transform( test_data )\n",
    "predictions.show(5)"
   ]
  },
  {
   "cell_type": "code",
   "execution_count": 42,
   "id": "fe014009",
   "metadata": {
    "scrolled": true
   },
   "outputs": [
    {
     "data": {
      "text/plain": [
       "[Row(features=DenseVector([3.0, 0.0, 29.6991, 0.0, 0.0, 56.4958]), survived=1, prediction=0.0),\n",
       " Row(features=DenseVector([3.0, 0.0, 29.6991, 2.0, 0.0, 23.25]), survived=1, prediction=0.0),\n",
       " Row(features=DenseVector([3.0, 0.0, 31.0, 0.0, 0.0, 7.925]), survived=1, prediction=0.0),\n",
       " Row(features=DenseVector([3.0, 0.0, 32.0, 0.0, 0.0, 56.4958]), survived=1, prediction=0.0),\n",
       " Row(features=DenseVector([3.0, 0.0, 39.0, 0.0, 0.0, 7.925]), survived=1, prediction=0.0)]"
      ]
     },
     "execution_count": 42,
     "metadata": {},
     "output_type": "execute_result"
    }
   ],
   "source": [
    "predictions.select('features', 'survived', 'prediction').tail(5)"
   ]
  },
  {
   "cell_type": "markdown",
   "id": "60d0cb5b",
   "metadata": {},
   "source": [
    "## 정답갯수 확인"
   ]
  },
  {
   "cell_type": "code",
   "execution_count": 43,
   "id": "2a65b45b",
   "metadata": {},
   "outputs": [],
   "source": [
    "from pyspark.sql.types import IntegerType\n",
    "from pyspark.sql.functions import expr\n"
   ]
  },
  {
   "cell_type": "code",
   "execution_count": 44,
   "id": "5d86773c",
   "metadata": {},
   "outputs": [],
   "source": [
    "predictions = predictions.withColumn( \"survived\", col(\"survived\").cast(IntegerType()))\n",
    "predictions = predictions.withColumn( \"prediction\", col(\"prediction\").cast(IntegerType()))\n"
   ]
  },
  {
   "cell_type": "code",
   "execution_count": 45,
   "id": "7b392f03",
   "metadata": {},
   "outputs": [
    {
     "data": {
      "text/plain": [
       "28"
      ]
     },
     "execution_count": 45,
     "metadata": {},
     "output_type": "execute_result"
    }
   ],
   "source": [
    "# correct column 추가\n",
    "compare = predictions.withColumn( \"correct\", expr(\"case when survived=prediction then 1 else 0 end\") )\n",
    "compare.where('correct=0').count()"
   ]
  },
  {
   "cell_type": "markdown",
   "id": "1c639604",
   "metadata": {},
   "source": [
    "## 정확도 계산 > 모델 점수"
   ]
  },
  {
   "cell_type": "code",
   "execution_count": 51,
   "id": "960374a9",
   "metadata": {},
   "outputs": [
    {
     "data": {
      "text/plain": [
       "0.8068965517241379"
      ]
     },
     "execution_count": 51,
     "metadata": {},
     "output_type": "execute_result"
    }
   ],
   "source": [
    "accu = compare.selectExpr(\"avg(correct) as accuracy\").collect()[0]['accuracy']\n",
    "accu\n"
   ]
  },
  {
   "cell_type": "markdown",
   "id": "5cf6ec65",
   "metadata": {},
   "source": [
    "## 평가기 evaluator"
   ]
  },
  {
   "cell_type": "code",
   "execution_count": 52,
   "id": "e12f4cb2",
   "metadata": {},
   "outputs": [],
   "source": [
    "from pyspark.ml.evaluation import BinaryClassificationEvaluator"
   ]
  },
  {
   "cell_type": "code",
   "execution_count": 55,
   "id": "2b907c47",
   "metadata": {},
   "outputs": [
    {
     "data": {
      "text/plain": [
       "BinaryClassificationEvaluator_affddb39c0d6"
      ]
     },
     "execution_count": 55,
     "metadata": {},
     "output_type": "execute_result"
    }
   ],
   "source": [
    "# 모델별로 평가지표,매트릭\n",
    "# 분류모델의 평가지표 중에서 AUC 계산.\n",
    "\n",
    "evaluator = BinaryClassificationEvaluator(labelCol='survived', rawPredictionCol='rawPrediction', metricName='areaUnderROC')\n",
    "evaluator"
   ]
  },
  {
   "cell_type": "code",
   "execution_count": 56,
   "id": "9b954741",
   "metadata": {},
   "outputs": [
    {
     "data": {
      "text/plain": [
       "0.8664129586260734"
      ]
     },
     "execution_count": 56,
     "metadata": {},
     "output_type": "execute_result"
    }
   ],
   "source": [
    "auc = evaluator.evaluate(predictions)\n",
    "auc"
   ]
  },
  {
   "cell_type": "code",
   "execution_count": null,
   "id": "7e948150",
   "metadata": {},
   "outputs": [],
   "source": []
  }
 ],
 "metadata": {
  "kernelspec": {
   "display_name": "Python (spark_start)",
   "language": "python",
   "name": "spark_start"
  },
  "language_info": {
   "codemirror_mode": {
    "name": "ipython",
    "version": 3
   },
   "file_extension": ".py",
   "mimetype": "text/x-python",
   "name": "python",
   "nbconvert_exporter": "python",
   "pygments_lexer": "ipython3",
   "version": "3.8.20"
  }
 },
 "nbformat": 4,
 "nbformat_minor": 5
}

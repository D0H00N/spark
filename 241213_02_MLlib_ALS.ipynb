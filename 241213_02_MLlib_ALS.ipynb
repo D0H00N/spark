{
 "cells": [
  {
   "cell_type": "code",
   "execution_count": 3,
   "id": "72f8397b",
   "metadata": {},
   "outputs": [],
   "source": [
    "from pyspark.sql import SparkSession\n",
    "\n",
    "MAX_MEMORY = '5g'\n",
    "spark = SparkSession.builder.appName(\"241212_01_MLlib_ALS\")\\\n",
    "            .config(\"spark.executer.memory\",MAX_MEMORY)\\\n",
    "            .config(\"spark.driver.memory\", MAX_MEMORY)\\\n",
    "            .getOrCreate()"
   ]
  },
  {
   "cell_type": "markdown",
   "id": "a6eb1a32",
   "metadata": {},
   "source": [
    "## DATA LOAD"
   ]
  },
  {
   "cell_type": "code",
   "execution_count": 5,
   "id": "c91c3174",
   "metadata": {},
   "outputs": [
    {
     "name": "stderr",
     "output_type": "stream",
     "text": [
      "                                                                                \r"
     ]
    }
   ],
   "source": [
    "rating_df = spark.read.format('csv')\\\n",
    "    .option('header', 'true')\\\n",
    "    .option('inferSchema', 'true')\\\n",
    "    .load('data/ratings.csv')"
   ]
  },
  {
   "cell_type": "code",
   "execution_count": 6,
   "id": "af5f8b79",
   "metadata": {},
   "outputs": [
    {
     "name": "stdout",
     "output_type": "stream",
     "text": [
      "root\n",
      " |-- userId: integer (nullable = true)\n",
      " |-- movieId: integer (nullable = true)\n",
      " |-- rating: double (nullable = true)\n",
      " |-- timestamp: integer (nullable = true)\n",
      "\n"
     ]
    }
   ],
   "source": [
    "rating_df.printSchema()"
   ]
  },
  {
   "cell_type": "markdown",
   "id": "af2c05e2",
   "metadata": {},
   "source": [
    "## 전처리"
   ]
  },
  {
   "cell_type": "code",
   "execution_count": 8,
   "id": "34d791a0",
   "metadata": {},
   "outputs": [],
   "source": [
    "rating_df = rating_df.select([\"userId\",'movieId','rating'])"
   ]
  },
  {
   "cell_type": "markdown",
   "id": "53e3f376",
   "metadata": {},
   "source": [
    "## 데이터 세트 분할"
   ]
  },
  {
   "cell_type": "code",
   "execution_count": 10,
   "id": "9398cb9c",
   "metadata": {},
   "outputs": [],
   "source": [
    "train_ratio = 0.8\n",
    "test_ratio = 0.2\n",
    "train_df, test_df = rating_df.randomSplit([train_ratio, test_ratio], seed=42)"
   ]
  },
  {
   "cell_type": "markdown",
   "id": "958904e6",
   "metadata": {},
   "source": [
    "## ALS 모델 객체 생성"
   ]
  },
  {
   "cell_type": "code",
   "execution_count": 18,
   "id": "3d458e66",
   "metadata": {},
   "outputs": [],
   "source": [
    "from pyspark.ml.recommendation import ALS\n",
    "\n",
    "als = ALS(\n",
    "    maxIter=5,\n",
    "    regParam=0.1,\n",
    "    userCol=\"userId\",\n",
    "    itemCol=\"movieId\",\n",
    "    ratingCol=\"rating\",\n",
    "    coldStartStrategy='drop'\n",
    ")"
   ]
  },
  {
   "cell_type": "markdown",
   "id": "24977eaa",
   "metadata": {},
   "source": [
    "## 모델 학습"
   ]
  },
  {
   "cell_type": "code",
   "execution_count": 19,
   "id": "81509c4f",
   "metadata": {},
   "outputs": [
    {
     "name": "stderr",
     "output_type": "stream",
     "text": [
      "                                                                                \r"
     ]
    }
   ],
   "source": [
    "als_model = als.fit(train_df)"
   ]
  },
  {
   "cell_type": "markdown",
   "id": "9c105e5c",
   "metadata": {},
   "source": [
    "## 예측 확인"
   ]
  },
  {
   "cell_type": "code",
   "execution_count": 20,
   "id": "218b2747",
   "metadata": {
    "scrolled": true
   },
   "outputs": [
    {
     "name": "stderr",
     "output_type": "stream",
     "text": [
      "[Stage 123:===================================================> (194 + 2) / 200]\r"
     ]
    },
    {
     "name": "stdout",
     "output_type": "stream",
     "text": [
      "+------+-------+------+----------+\n",
      "|userId|movieId|rating|prediction|\n",
      "+------+-------+------+----------+\n",
      "| 26480|    148|   2.0| 1.9439574|\n",
      "|151614|    148|   1.0| 2.7431073|\n",
      "| 28229|    148|   1.0|  2.403362|\n",
      "|  6491|    148|   4.0| 2.4508655|\n",
      "| 14831|    148|   3.0|  2.687292|\n",
      "+------+-------+------+----------+\n",
      "only showing top 5 rows\n",
      "\n"
     ]
    },
    {
     "name": "stderr",
     "output_type": "stream",
     "text": [
      "                                                                                \r"
     ]
    }
   ],
   "source": [
    "#userId, movieId > rating\n",
    "predictions = als_model.transform(test_df)\n",
    "predictions.show(5)"
   ]
  },
  {
   "cell_type": "code",
   "execution_count": 21,
   "id": "c145b5c9",
   "metadata": {
    "scrolled": true
   },
   "outputs": [
    {
     "name": "stderr",
     "output_type": "stream",
     "text": [
      "[Stage 143:==================================================>  (191 + 2) / 200]\r"
     ]
    },
    {
     "name": "stdout",
     "output_type": "stream",
     "text": [
      "+-------+------------------+------------------+\n",
      "|summary|            rating|        prediction|\n",
      "+-------+------------------+------------------+\n",
      "|  count|           4998109|           4998109|\n",
      "|   mean|3.5341648211353536|3.4117775723363426|\n",
      "| stddev|1.0609230261741123|0.6413064384231564|\n",
      "|    min|               0.5|        -4.1310825|\n",
      "|    max|               5.0|          6.545404|\n",
      "+-------+------------------+------------------+\n",
      "\n"
     ]
    },
    {
     "name": "stderr",
     "output_type": "stream",
     "text": [
      "                                                                                \r"
     ]
    }
   ],
   "source": [
    "predictions.select(\"rating\", \"prediction\").describe().show()"
   ]
  },
  {
   "cell_type": "markdown",
   "id": "d72adeda",
   "metadata": {},
   "source": [
    "## ALS 모델의 하이퍼파라미터 조정"
   ]
  },
  {
   "cell_type": "code",
   "execution_count": 16,
   "id": "2e449fb1",
   "metadata": {},
   "outputs": [
    {
     "data": {
      "text/plain": [
       "ALS_6f02f10c59d3"
      ]
     },
     "execution_count": 16,
     "metadata": {},
     "output_type": "execute_result"
    }
   ],
   "source": [
    "#데이터가 적을 때 사용하는 전략, 데이터 없을 때 대체하는 방식\n",
    "als.setColdStartStrategy('drop')"
   ]
  },
  {
   "cell_type": "code",
   "execution_count": null,
   "id": "4fe54909",
   "metadata": {},
   "outputs": [],
   "source": [
    "predictions = als_model.transform(test_df)\n",
    "predictions.show(5)"
   ]
  },
  {
   "cell_type": "code",
   "execution_count": null,
   "id": "4296095a",
   "metadata": {},
   "outputs": [],
   "source": []
  },
  {
   "cell_type": "markdown",
   "id": "8e34b87f",
   "metadata": {},
   "source": [
    "## 평가"
   ]
  },
  {
   "cell_type": "markdown",
   "id": "b3f6cdd3",
   "metadata": {},
   "source": [
    "RMSE 측정"
   ]
  },
  {
   "cell_type": "code",
   "execution_count": 23,
   "id": "04c80d22",
   "metadata": {},
   "outputs": [],
   "source": [
    "from pyspark.ml.evaluation import RegressionEvaluator\n",
    "\n",
    "evaluator = RegressionEvaluator(metricName='rmse', labelCol='rating',predictionCol='prediction')\n"
   ]
  },
  {
   "cell_type": "code",
   "execution_count": 25,
   "id": "b425c888",
   "metadata": {},
   "outputs": [
    {
     "name": "stderr",
     "output_type": "stream",
     "text": [
      "                                                                                \r"
     ]
    },
    {
     "data": {
      "text/plain": [
       "0.810656549900932"
      ]
     },
     "execution_count": 25,
     "metadata": {},
     "output_type": "execute_result"
    }
   ],
   "source": [
    "rmse = evaluator.evaluate(predictions)\n",
    "rmse"
   ]
  },
  {
   "cell_type": "markdown",
   "id": "6ced170e",
   "metadata": {},
   "source": [
    "##  활용\n",
    "\n",
    "1. 사용자id > 추천목록\n",
    "2. 영화id > 사용자목록"
   ]
  },
  {
   "cell_type": "code",
   "execution_count": null,
   "id": "e076f117",
   "metadata": {},
   "outputs": [],
   "source": [
    "#als_model.getRecommendForAllusers(3) #user별로 추천할 영화 3개 고르기"
   ]
  },
  {
   "cell_type": "code",
   "execution_count": null,
   "id": "d90da2cb",
   "metadata": {},
   "outputs": [],
   "source": [
    "#als_model.recommandForAllItems(3) #item별로 추천할 유저 3명 고르기"
   ]
  },
  {
   "cell_type": "code",
   "execution_count": 28,
   "id": "1bab20bf",
   "metadata": {},
   "outputs": [
    {
     "name": "stdout",
     "output_type": "stream",
     "text": [
      "+------+\n",
      "|userid|\n",
      "+------+\n",
      "|     4|\n",
      "|    11|\n",
      "|    26|\n",
      "|    66|\n",
      "+------+\n",
      "\n"
     ]
    },
    {
     "name": "stderr",
     "output_type": "stream",
     "text": [
      "                                                                                \r"
     ]
    }
   ],
   "source": [
    "from pyspark.sql.types import IntegerType\n",
    "\n",
    "user_list = [4,11,26,66,]\n",
    "user_df = spark.createDataFrame(user_list, IntegerType()).toDF(\"userid\")\n",
    "user_df.show()"
   ]
  },
  {
   "cell_type": "code",
   "execution_count": 35,
   "id": "b2a00e1a",
   "metadata": {},
   "outputs": [
    {
     "name": "stderr",
     "output_type": "stream",
     "text": [
      "                                                                                \r"
     ]
    },
    {
     "name": "stdout",
     "output_type": "stream",
     "text": [
      "+------+--------------------+\n",
      "|userId|     recommendations|\n",
      "+------+--------------------+\n",
      "|    26|[{194434, 5.60306...|\n",
      "|     4|[{194434, 5.93477...|\n",
      "|    11|[{203086, 5.50464...|\n",
      "|    66|[{177209, 6.19961...|\n",
      "+------+--------------------+\n",
      "\n"
     ]
    }
   ],
   "source": [
    "user_recommend_movies = als_model.recommendForUserSubset(user_df, 3)\n",
    "user_recommend_movies.show()"
   ]
  },
  {
   "cell_type": "code",
   "execution_count": 31,
   "id": "b4602a56",
   "metadata": {},
   "outputs": [],
   "source": [
    "# movie-list load"
   ]
  },
  {
   "cell_type": "code",
   "execution_count": 36,
   "id": "7e22764a",
   "metadata": {},
   "outputs": [],
   "source": [
    "movie_file = 'data/movies.csv'\n",
    "movies_df = spark.read.csv(movie_file, inferSchema=True, header=True)"
   ]
  },
  {
   "cell_type": "code",
   "execution_count": 37,
   "id": "da8f87ba",
   "metadata": {},
   "outputs": [
    {
     "name": "stdout",
     "output_type": "stream",
     "text": [
      "+-------+--------------------+--------------------+\n",
      "|movieId|               title|              genres|\n",
      "+-------+--------------------+--------------------+\n",
      "|      1|    Toy Story (1995)|Adventure|Animati...|\n",
      "|      2|      Jumanji (1995)|Adventure|Childre...|\n",
      "|      3|Grumpier Old Men ...|      Comedy|Romance|\n",
      "+-------+--------------------+--------------------+\n",
      "only showing top 3 rows\n",
      "\n"
     ]
    }
   ],
   "source": [
    "movies_df.show(3)"
   ]
  },
  {
   "cell_type": "code",
   "execution_count": null,
   "id": "6f8138c9",
   "metadata": {},
   "outputs": [],
   "source": []
  },
  {
   "cell_type": "code",
   "execution_count": 38,
   "id": "17d3e713",
   "metadata": {},
   "outputs": [
    {
     "name": "stderr",
     "output_type": "stream",
     "text": [
      "                                                                                \r"
     ]
    },
    {
     "data": {
      "text/plain": [
       "[Row(movieId=177209, rating=6.199610233306885),\n",
       " Row(movieId=203086, rating=6.101006031036377),\n",
       " Row(movieId=127252, rating=6.039139747619629)]"
      ]
     },
     "execution_count": 38,
     "metadata": {},
     "output_type": "execute_result"
    }
   ],
   "source": [
    "# 66번 사용자 추천영화 목록\n",
    "movies_list = user_recommend_movies.collect()[3].recommendations\n",
    "movies_list"
   ]
  },
  {
   "cell_type": "code",
   "execution_count": 40,
   "id": "a85ea95c",
   "metadata": {},
   "outputs": [
    {
     "name": "stdout",
     "output_type": "stream",
     "text": [
      "+-------+-----------------+\n",
      "|movieId|           rating|\n",
      "+-------+-----------------+\n",
      "| 177209|6.199610233306885|\n",
      "| 203086|6.101006031036377|\n",
      "| 127252|6.039139747619629|\n",
      "+-------+-----------------+\n",
      "\n"
     ]
    }
   ],
   "source": [
    "rec_df = spark.createDataFrame(movies_list)\n",
    "rec_df.show()"
   ]
  },
  {
   "cell_type": "code",
   "execution_count": 41,
   "id": "7d7f0773",
   "metadata": {},
   "outputs": [],
   "source": [
    "# 영화정보와 추천영화 목록 조인"
   ]
  },
  {
   "cell_type": "code",
   "execution_count": 42,
   "id": "33122602",
   "metadata": {},
   "outputs": [],
   "source": [
    "rec_df.createOrReplaceTempView('recommend')\n",
    "movies_df.createOrReplaceTempView('movies')"
   ]
  },
  {
   "cell_type": "code",
   "execution_count": 44,
   "id": "f8556eb6",
   "metadata": {},
   "outputs": [
    {
     "name": "stdout",
     "output_type": "stream",
     "text": [
      "+-------+--------------------+--------------------+-------+-----------------+\n",
      "|movieId|               title|              genres|movieId|           rating|\n",
      "+-------+--------------------+--------------------+-------+-----------------+\n",
      "| 177209|      Acı Aşk (2009)|               Drama| 177209|6.199610233306885|\n",
      "| 203086|Truth and Justice...|               Drama| 203086|6.101006031036377|\n",
      "| 127252|The Veil of Twili...|Crime|Fantasy|Mys...| 127252|6.039139747619629|\n",
      "+-------+--------------------+--------------------+-------+-----------------+\n",
      "\n"
     ]
    }
   ],
   "source": [
    "query = '''\n",
    "SELECT *\n",
    "FROM movies join recommend on movies.movieId = recommend.movieId\n",
    "ORDER BY rating DESC\n",
    "'''\n",
    "recommend_movies = spark.sql(query)\n",
    "recommend_movies.show()"
   ]
  },
  {
   "cell_type": "code",
   "execution_count": 45,
   "id": "917039b4",
   "metadata": {},
   "outputs": [],
   "source": [
    "spark.stop()"
   ]
  },
  {
   "cell_type": "code",
   "execution_count": null,
   "id": "c7baeb24",
   "metadata": {},
   "outputs": [],
   "source": []
  }
 ],
 "metadata": {
  "kernelspec": {
   "display_name": "Python (spark_start)",
   "language": "python",
   "name": "spark_start"
  },
  "language_info": {
   "codemirror_mode": {
    "name": "ipython",
    "version": 3
   },
   "file_extension": ".py",
   "mimetype": "text/x-python",
   "name": "python",
   "nbconvert_exporter": "python",
   "pygments_lexer": "ipython3",
   "version": "3.8.20"
  }
 },
 "nbformat": 4,
 "nbformat_minor": 5
}

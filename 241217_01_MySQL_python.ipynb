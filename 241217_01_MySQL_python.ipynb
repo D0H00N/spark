{
 "cells": [
  {
   "cell_type": "code",
   "execution_count": 8,
   "id": "003cc5d9",
   "metadata": {},
   "outputs": [],
   "source": [
    "host_ip=\"15.168.30.32\" #localhost\n",
    "user_id=\"spark_user\"\n",
    "user_password=\"1234\""
   ]
  },
  {
   "cell_type": "code",
   "execution_count": 10,
   "id": "342509a9",
   "metadata": {},
   "outputs": [],
   "source": [
    "import mysql.connector\n",
    "\n",
    "conn = mysql.connector.connect(\n",
    "    host=host_ip,\n",
    "    user=user_id,\n",
    "    password=user_password,\n",
    "    database=\"my_db\"\n",
    ")"
   ]
  },
  {
   "cell_type": "code",
   "execution_count": 11,
   "id": "eacf70aa",
   "metadata": {},
   "outputs": [],
   "source": [
    "cursor = conn.cursor()\n",
    "cursor.execute(\"SHOW TABLES;\")"
   ]
  },
  {
   "cell_type": "code",
   "execution_count": 12,
   "id": "46cc5d26",
   "metadata": {},
   "outputs": [],
   "source": [
    "for table in cursor.fetchall():\n",
    "    print(table)"
   ]
  },
  {
   "cell_type": "code",
   "execution_count": 13,
   "id": "20a95b32",
   "metadata": {},
   "outputs": [],
   "source": [
    "cursor.close()\n",
    "conn.close()"
   ]
  },
  {
   "cell_type": "code",
   "execution_count": null,
   "id": "f6c77625",
   "metadata": {},
   "outputs": [],
   "source": []
  }
 ],
 "metadata": {
  "kernelspec": {
   "display_name": "Python (spark_start)",
   "language": "python",
   "name": "spark_start"
  },
  "language_info": {
   "codemirror_mode": {
    "name": "ipython",
    "version": 3
   },
   "file_extension": ".py",
   "mimetype": "text/x-python",
   "name": "python",
   "nbconvert_exporter": "python",
   "pygments_lexer": "ipython3",
   "version": "3.8.20"
  }
 },
 "nbformat": 4,
 "nbformat_minor": 5
}

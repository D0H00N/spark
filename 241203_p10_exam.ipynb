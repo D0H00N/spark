{
 "cells": [
  {
   "cell_type": "code",
   "execution_count": 6,
   "id": "2ea76120",
   "metadata": {},
   "outputs": [
    {
     "name": "stderr",
     "output_type": "stream",
     "text": [
      "24/12/03 10:29:02 WARN NativeCodeLoader: Unable to load native-hadoop library for your platform... using builtin-java classes where applicable\n",
      "Using Spark's default log4j profile: org/apache/spark/log4j-defaults.properties\n",
      "Setting default log level to \"WARN\".\n",
      "To adjust logging level use sc.setLogLevel(newLevel). For SparkR, use setLogLevel(newLevel).\n",
      "24/12/03 10:29:03 WARN Utils: Service 'SparkUI' could not bind on port 4040. Attempting port 4041.\n"
     ]
    }
   ],
   "source": [
    "from pyspark.sql import SparkSession\n",
    "\n",
    "spark = SparkSession.builder.appName('PySpark Example').getOrCreate()"
   ]
  },
  {
   "cell_type": "code",
   "execution_count": 9,
   "id": "094ac032",
   "metadata": {},
   "outputs": [
    {
     "data": {
      "text/plain": [
       "ParallelCollectionRDD[0] at readRDDFromFile at PythonRDD.scala:274"
      ]
     },
     "execution_count": 9,
     "metadata": {},
     "output_type": "execute_result"
    }
   ],
   "source": [
    "#RDD 생성 - 분산 데이터 객체\n",
    "\n",
    "rdd = spark.sparkContext.parallelize( [1,2,3,4,5] )\n",
    "rdd"
   ]
  },
  {
   "cell_type": "code",
   "execution_count": 12,
   "id": "3033bcbc",
   "metadata": {},
   "outputs": [
    {
     "data": {
      "text/plain": [
       "[1, 2, 3, 4, 5]"
      ]
     },
     "execution_count": 12,
     "metadata": {},
     "output_type": "execute_result"
    }
   ],
   "source": [
    "rdd.take(5)"
   ]
  },
  {
   "cell_type": "code",
   "execution_count": 14,
   "id": "70327e01",
   "metadata": {},
   "outputs": [
    {
     "data": {
      "text/plain": [
       "PythonRDD[8] at RDD at PythonRDD.scala:53"
      ]
     },
     "execution_count": 14,
     "metadata": {},
     "output_type": "execute_result"
    }
   ],
   "source": [
    "squared_rdd = rdd.map( lambda x : x * x)\n",
    "squared_rdd"
   ]
  },
  {
   "cell_type": "code",
   "execution_count": 15,
   "id": "4ce855c6",
   "metadata": {},
   "outputs": [
    {
     "data": {
      "text/plain": [
       "[1, 4, 9, 16, 25]"
      ]
     },
     "execution_count": 15,
     "metadata": {},
     "output_type": "execute_result"
    }
   ],
   "source": [
    "squared_rdd.take(5)"
   ]
  },
  {
   "cell_type": "code",
   "execution_count": 16,
   "id": "0e034514",
   "metadata": {
    "scrolled": true
   },
   "outputs": [
    {
     "data": {
      "text/plain": [
       "[1, 4, 9, 16, 25]"
      ]
     },
     "execution_count": 16,
     "metadata": {},
     "output_type": "execute_result"
    }
   ],
   "source": [
    "squared_rdd.collect()"
   ]
  },
  {
   "cell_type": "markdown",
   "id": "dea81ee4",
   "metadata": {},
   "source": [
    "# 데이터프레임 객체"
   ]
  },
  {
   "cell_type": "code",
   "execution_count": 19,
   "id": "9d6a9e0e",
   "metadata": {},
   "outputs": [
    {
     "data": {
      "text/plain": [
       "DataFrame[Name: string, Value: bigint]"
      ]
     },
     "execution_count": 19,
     "metadata": {},
     "output_type": "execute_result"
    }
   ],
   "source": [
    "data = [ (\"Alice\", 1), (\"Bob\", 2), (\"Charlie\", 3)]\n",
    "df = spark.createDataFrame(data, [\"Name\", \"Value\"])\n",
    "df"
   ]
  },
  {
   "cell_type": "code",
   "execution_count": 20,
   "id": "00f65ec0",
   "metadata": {},
   "outputs": [
    {
     "name": "stdout",
     "output_type": "stream",
     "text": [
      "+-------+-----+\n",
      "|   Name|Value|\n",
      "+-------+-----+\n",
      "|  Alice|    1|\n",
      "|    Bob|    2|\n",
      "|Charlie|    3|\n",
      "+-------+-----+\n",
      "\n"
     ]
    }
   ],
   "source": [
    "df.show()"
   ]
  },
  {
   "cell_type": "markdown",
   "id": "92a4dc94",
   "metadata": {},
   "source": [
    "# RDBMS 데이터 - 테이블"
   ]
  },
  {
   "cell_type": "code",
   "execution_count": 21,
   "id": "8e5821e3",
   "metadata": {},
   "outputs": [],
   "source": [
    "df.createOrReplaceTempView(\"people\")"
   ]
  },
  {
   "cell_type": "code",
   "execution_count": 26,
   "id": "b5e8f8ca",
   "metadata": {},
   "outputs": [],
   "source": [
    "select_sql = \"SELECT * FROM people WHERE Value > 1\""
   ]
  },
  {
   "cell_type": "code",
   "execution_count": 27,
   "id": "3c5eaa15",
   "metadata": {},
   "outputs": [
    {
     "name": "stdout",
     "output_type": "stream",
     "text": [
      "+-------+-----+\n",
      "|   Name|Value|\n",
      "+-------+-----+\n",
      "|    Bob|    2|\n",
      "|Charlie|    3|\n",
      "+-------+-----+\n",
      "\n"
     ]
    }
   ],
   "source": [
    "result_sql = spark.sql(select_sql)\n",
    "result_sql.show()"
   ]
  },
  {
   "cell_type": "code",
   "execution_count": 28,
   "id": "d9cb7f36",
   "metadata": {},
   "outputs": [],
   "source": [
    "# DataFrame 생성 -> select DF 추출"
   ]
  },
  {
   "cell_type": "code",
   "execution_count": 47,
   "id": "dc9c4226",
   "metadata": {},
   "outputs": [
    {
     "name": "stdout",
     "output_type": "stream",
     "text": [
      "+------+-----+\n",
      "|  Name|Score|\n",
      "+------+-----+\n",
      "|김철수|   70|\n",
      "|이영희|  100|\n",
      "|홍길동|   80|\n",
      "|김영숙|   90|\n",
      "+------+-----+\n",
      "\n"
     ]
    }
   ],
   "source": [
    "student = [ (\"김철수\",70), (\"이영희\", 100),(\"홍길동\", 80),(\"김영숙\", 90)]\n",
    "d_frame = spark.createDataFrame(student, [\"Name\",\"Score\"])\n",
    "d_frame.show()"
   ]
  },
  {
   "cell_type": "code",
   "execution_count": 59,
   "id": "6aa7da61",
   "metadata": {},
   "outputs": [],
   "source": [
    "d_frame.createOrReplaceTempView(\"passer\")"
   ]
  },
  {
   "cell_type": "code",
   "execution_count": 60,
   "id": "468d870a",
   "metadata": {},
   "outputs": [],
   "source": [
    "pass_sql = \"SELECT * FROM passer WHERE Score > 80\""
   ]
  },
  {
   "cell_type": "code",
   "execution_count": 61,
   "id": "04d9014e",
   "metadata": {},
   "outputs": [
    {
     "name": "stdout",
     "output_type": "stream",
     "text": [
      "+------+-----+\n",
      "|  Name|Score|\n",
      "+------+-----+\n",
      "|이영희|  100|\n",
      "|김영숙|   90|\n",
      "+------+-----+\n",
      "\n"
     ]
    }
   ],
   "source": [
    "passer = spark.sql(pass_sql)\n",
    "passer.show()"
   ]
  },
  {
   "cell_type": "markdown",
   "id": "fae2eeb2",
   "metadata": {},
   "source": [
    "# MLIib"
   ]
  },
  {
   "cell_type": "code",
   "execution_count": 63,
   "id": "403dcb83",
   "metadata": {},
   "outputs": [
    {
     "name": "stdout",
     "output_type": "stream",
     "text": [
      "Collecting numpy\n",
      "  Downloading numpy-1.24.4-cp38-cp38-manylinux_2_17_x86_64.manylinux2014_x86_64.whl.metadata (5.6 kB)\n",
      "Downloading numpy-1.24.4-cp38-cp38-manylinux_2_17_x86_64.manylinux2014_x86_64.whl (17.3 MB)\n",
      "\u001b[2K   \u001b[90m━━━━━━━━━━━━━━━━━━━━━━━━━━━━━━━━━━━━━━━━\u001b[0m \u001b[32m17.3/17.3 MB\u001b[0m \u001b[31m161.9 MB/s\u001b[0m eta \u001b[36m0:00:00\u001b[0m\n",
      "\u001b[?25hInstalling collected packages: numpy\n",
      "Successfully installed numpy-1.24.4\n",
      "Note: you may need to restart the kernel to use updated packages.\n"
     ]
    }
   ],
   "source": [
    "pip install numpy"
   ]
  },
  {
   "cell_type": "code",
   "execution_count": 64,
   "id": "cb81019c",
   "metadata": {},
   "outputs": [],
   "source": [
    "from pyspark.ml.feature import VectorAssembler\n",
    "from pyspark.ml.regression import LinearRegression"
   ]
  },
  {
   "cell_type": "code",
   "execution_count": 65,
   "id": "1e737761",
   "metadata": {},
   "outputs": [
    {
     "name": "stdout",
     "output_type": "stream",
     "text": [
      "+-------+---+\n",
      "|   name|age|\n",
      "+-------+---+\n",
      "|    Bob| 30|\n",
      "|Charlie| 35|\n",
      "+-------+---+\n",
      "\n"
     ]
    }
   ],
   "source": [
    "# DataFrame 생성\n",
    "df = spark.createDataFrame([(\"Alice\", 25), (\"Bob\", 30), (\"Charlie\", 35)], [\"name\", \"age\"])\n",
    "\n",
    "# DataFrame 연산\n",
    "df_filtered = df.filter(df.age > 28)\n",
    "df_filtered.show()"
   ]
  },
  {
   "cell_type": "code",
   "execution_count": 70,
   "id": "3bef4c04",
   "metadata": {},
   "outputs": [
    {
     "data": {
      "text/plain": [
       "DataFrame[name: string, age: bigint, features: vector]"
      ]
     },
     "execution_count": 70,
     "metadata": {},
     "output_type": "execute_result"
    }
   ],
   "source": [
    "# VectorAssembler:\n",
    "# inputCols: 입력 열 이름의 리스트. 여기서는 ['age']를 입력으로 지정.\n",
    "# outputCol: 벡터화된 결과가 저장될 열 이름. 여기서는 features로 지정.\n",
    "\n",
    "# transform\n",
    "# df에 지정된 열을 벡터로 변환하여 features 열을 추가한 새로운 DataFrame을 반환.\n",
    "\n",
    "assembler = VectorAssembler(inputCols=['age'], outputCol='features')\n",
    "vector_df = assembler.transform(df)\n",
    "vector_df"
   ]
  },
  {
   "cell_type": "code",
   "execution_count": 74,
   "id": "b019110a",
   "metadata": {},
   "outputs": [
    {
     "name": "stderr",
     "output_type": "stream",
     "text": [
      "24/12/03 11:42:52 WARN Instrumentation: [a0c936eb] regParam is zero, which might cause numerical instability and overfitting.\n"
     ]
    }
   ],
   "source": [
    "# LinearRegression\n",
    "# featuresCol: 모델 학습에 사용할 특징 벡터 열.\n",
    "# labelCol: 예측하려는 대상 열.\n",
    "\n",
    "# lr.fit(vector_df)는 vector_df의 데이터를 사용해 모델을 학습\n",
    "\n",
    "lr = LinearRegression(featuresCol='features', labelCol='age')\n",
    "model = lr.fit(vector_df)"
   ]
  },
  {
   "cell_type": "code",
   "execution_count": 76,
   "id": "8155ebf1",
   "metadata": {},
   "outputs": [
    {
     "name": "stdout",
     "output_type": "stream",
     "text": [
      "+-------+---+--------+------------------+\n",
      "|   name|age|features|        prediction|\n",
      "+-------+---+--------+------------------+\n",
      "|  Alice| 25|  [25.0]|25.000000000000036|\n",
      "|    Bob| 30|  [30.0]|30.000000000000004|\n",
      "|Charlie| 35|  [35.0]| 34.99999999999997|\n",
      "+-------+---+--------+------------------+\n",
      "\n"
     ]
    }
   ],
   "source": [
    "# transform은 머신러닝 모델이 데이터를 예측하거나 변환하는 데 사용\n",
    "\n",
    "pred = model.transform(vector_df)\n",
    "pred.show()"
   ]
  },
  {
   "cell_type": "code",
   "execution_count": 77,
   "id": "8685744e",
   "metadata": {},
   "outputs": [],
   "source": [
    "spark.stop()"
   ]
  },
  {
   "cell_type": "code",
   "execution_count": null,
   "id": "6d565072",
   "metadata": {},
   "outputs": [],
   "source": []
  }
 ],
 "metadata": {
  "kernelspec": {
   "display_name": "Python (spark_start)",
   "language": "python",
   "name": "spark_start"
  },
  "language_info": {
   "codemirror_mode": {
    "name": "ipython",
    "version": 3
   },
   "file_extension": ".py",
   "mimetype": "text/x-python",
   "name": "python",
   "nbconvert_exporter": "python",
   "pygments_lexer": "ipython3",
   "version": "3.8.20"
  }
 },
 "nbformat": 4,
 "nbformat_minor": 5
}

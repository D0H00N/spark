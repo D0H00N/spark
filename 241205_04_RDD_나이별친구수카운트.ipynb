{
 "cells": [
  {
   "cell_type": "markdown",
   "id": "8e316979",
   "metadata": {},
   "source": [
    "## fakefriends.csv\n",
    "1. user_id: 사용자ID\n",
    "2. name:사용자 이름\n",
    "3. age: 사용자 나이\n",
    "4. num_friends: 친구 수"
   ]
  },
  {
   "cell_type": "code",
   "execution_count": 1,
   "id": "145071db",
   "metadata": {},
   "outputs": [
    {
     "name": "stderr",
     "output_type": "stream",
     "text": [
      "24/12/05 18:31:21 WARN NativeCodeLoader: Unable to load native-hadoop library for your platform... using builtin-java classes where applicable\n",
      "Using Spark's default log4j profile: org/apache/spark/log4j-defaults.properties\n",
      "Setting default log level to \"WARN\".\n",
      "To adjust logging level use sc.setLogLevel(newLevel). For SparkR, use setLogLevel(newLevel).\n",
      "24/12/05 18:31:23 WARN Utils: Service 'SparkUI' could not bind on port 4040. Attempting port 4041.\n",
      "24/12/05 18:31:23 WARN Utils: Service 'SparkUI' could not bind on port 4041. Attempting port 4042.\n"
     ]
    }
   ],
   "source": [
    "from pyspark import SparkConf, SparkContext\n",
    "# 스파크 환경 설정 객체 생성\n",
    "conf = SparkConf().setMaster(\"local\").setAppName(\"241205_04_RDDEXAM\")\n",
    "spark = SparkContext(conf=conf).getOrCreate()"
   ]
  },
  {
   "cell_type": "code",
   "execution_count": 2,
   "id": "19395f59",
   "metadata": {},
   "outputs": [
    {
     "name": "stderr",
     "output_type": "stream",
     "text": [
      "                                                                                \r"
     ]
    },
    {
     "data": {
      "text/plain": [
       "['0,Will,33,385',\n",
       " '1,Jean-Luc,26,2',\n",
       " '2,Hugh,55,221',\n",
       " '3,Deanna,40,465',\n",
       " '4,Quark,68,21']"
      ]
     },
     "execution_count": 2,
     "metadata": {},
     "output_type": "execute_result"
    }
   ],
   "source": [
    "import os\n",
    "directory = os.path.join(os.getcwd(), \"data\")\n",
    "filename = \"fakefriends.csv\"\n",
    "filepath = os.path.join(directory, filename)\n",
    "\n",
    "lines = spark.textFile(\"file:///\"+filepath.replace(\"\\\\\", \"/\"))\n",
    "lines.take(5)"
   ]
  },
  {
   "cell_type": "code",
   "execution_count": 5,
   "id": "c3840534",
   "metadata": {},
   "outputs": [
    {
     "data": {
      "text/plain": [
       "[['0', 'Will', '33', '385'],\n",
       " ['1', 'Jean-Luc', '26', '2'],\n",
       " ['2', 'Hugh', '55', '221'],\n",
       " ['3', 'Deanna', '40', '465'],\n",
       " ['4', 'Quark', '68', '21']]"
      ]
     },
     "execution_count": 5,
     "metadata": {},
     "output_type": "execute_result"
    }
   ],
   "source": [
    "name_age_friends = lines.map(lambda x: x.split(','))\n",
    "name_age_friends.take(5)"
   ]
  },
  {
   "cell_type": "code",
   "execution_count": 6,
   "id": "7df45ff1",
   "metadata": {},
   "outputs": [],
   "source": [
    "# 평균 친구수 구하기"
   ]
  },
  {
   "cell_type": "code",
   "execution_count": 7,
   "id": "949a7beb",
   "metadata": {},
   "outputs": [
    {
     "data": {
      "text/plain": [
       "500"
      ]
     },
     "execution_count": 7,
     "metadata": {},
     "output_type": "execute_result"
    }
   ],
   "source": [
    "total_people = name_age_friends.count()\n",
    "total_people"
   ]
  },
  {
   "cell_type": "code",
   "execution_count": 8,
   "id": "31d74e42",
   "metadata": {},
   "outputs": [
    {
     "data": {
      "text/plain": [
       "['385', '2', '221']"
      ]
     },
     "execution_count": 8,
     "metadata": {},
     "output_type": "execute_result"
    }
   ],
   "source": [
    "friends_cnt = name_age_friends.map(lambda x:x[3])\n",
    "friends_cnt.take(3)\n"
   ]
  },
  {
   "cell_type": "code",
   "execution_count": 9,
   "id": "0da6c3a6",
   "metadata": {},
   "outputs": [
    {
     "data": {
      "text/plain": [
       "124266"
      ]
     },
     "execution_count": 9,
     "metadata": {},
     "output_type": "execute_result"
    }
   ],
   "source": [
    "total_friend = friends_cnt.map(int).sum()\n",
    "total_friend"
   ]
  },
  {
   "cell_type": "code",
   "execution_count": 10,
   "id": "554d58fa",
   "metadata": {},
   "outputs": [
    {
     "data": {
      "text/plain": [
       "248.532"
      ]
     },
     "execution_count": 10,
     "metadata": {},
     "output_type": "execute_result"
    }
   ],
   "source": [
    "avg_friend = total_friend / total_people\n",
    "avg_friend"
   ]
  },
  {
   "cell_type": "code",
   "execution_count": 11,
   "id": "90111e69",
   "metadata": {},
   "outputs": [],
   "source": [
    "# 가장 친구가 많은/적은 사용자 찾기"
   ]
  },
  {
   "cell_type": "code",
   "execution_count": 12,
   "id": "eb65b18b",
   "metadata": {},
   "outputs": [
    {
     "data": {
      "text/plain": [
       "[['106', 'Beverly', '18', '499'],\n",
       " ['278', 'Data', '44', '499'],\n",
       " ['353', 'Julian', '64', '499'],\n",
       " ['192', 'Jadzia', '45', '497'],\n",
       " ['266', 'Jean-Luc', '66', '496'],\n",
       " ['408', 'Dukat', '62', '496'],\n",
       " ['273', 'Data', '51', '493'],\n",
       " ['430', 'Geordi', '36', '493'],\n",
       " ['89', 'Worf', '24', '492'],\n",
       " ['280', 'Nerys', '26', '492']]"
      ]
     },
     "execution_count": 12,
     "metadata": {},
     "output_type": "execute_result"
    }
   ],
   "source": [
    "inssa = name_age_friends.sortBy(lambda x: int(x[3]),  ascending=False)\n",
    "inssa.take(10)"
   ]
  },
  {
   "cell_type": "code",
   "execution_count": 13,
   "id": "fdd2e45d",
   "metadata": {},
   "outputs": [
    {
     "data": {
      "text/plain": [
       "[['24', 'Julian', '25', '1'],\n",
       " ['48', 'Nog', '20', '1'],\n",
       " ['1', 'Jean-Luc', '26', '2'],\n",
       " ['103', 'Ezri', '61', '2'],\n",
       " ['194', 'Kasidy', '38', '2'],\n",
       " ['491', 'Rom', '60', '2'],\n",
       " ['336', 'Gowron', '47', '4'],\n",
       " ['54', 'Brunt', '19', '5'],\n",
       " ['215', 'Will', '22', '6'],\n",
       " ['452', 'Ezri', '58', '6']]"
      ]
     },
     "execution_count": 13,
     "metadata": {},
     "output_type": "execute_result"
    }
   ],
   "source": [
    "asssa = name_age_friends.sortBy(lambda x: int(x[3]),  ascending=True)\n",
    "asssa.take(10)"
   ]
  },
  {
   "cell_type": "code",
   "execution_count": 14,
   "id": "d6551602",
   "metadata": {},
   "outputs": [],
   "source": [
    "# 친구 수가 100 이상인 사용자 필터링"
   ]
  },
  {
   "cell_type": "code",
   "execution_count": 15,
   "id": "b40f2ad6",
   "metadata": {},
   "outputs": [],
   "source": [
    "from py4j.protocol import Py4JJavaError"
   ]
  },
  {
   "cell_type": "code",
   "execution_count": 16,
   "id": "2647f411",
   "metadata": {},
   "outputs": [
    {
     "data": {
      "text/plain": [
       "[['227', 'Ezri', '40', '198'],\n",
       " ['33', 'Dukat', '53', '197'],\n",
       " ['56', 'Gowron', '44', '194'],\n",
       " ['467', 'Weyoun', '42', '194'],\n",
       " ['494', 'Kasidy', '18', '194'],\n",
       " ['139', 'Nog', '36', '193'],\n",
       " ['39', 'Morn', '31', '192'],\n",
       " ['10', 'Odo', '53', '191'],\n",
       " ['310', 'Odo', '68', '189'],\n",
       " ['88', 'Ben', '66', '188']]"
      ]
     },
     "execution_count": 16,
     "metadata": {},
     "output_type": "execute_result"
    }
   ],
   "source": [
    "inssa = name_age_friends.filter(lambda x: 200> int(x[3]) >= 100).sortBy(lambda x: int(x[3]),  ascending=False)\n",
    "inssa.take(10)"
   ]
  },
  {
   "cell_type": "code",
   "execution_count": 17,
   "id": "d1f51624",
   "metadata": {},
   "outputs": [],
   "source": [
    "# 특정 나이에 속한 사람들의 친구 수 합계 , 50대"
   ]
  },
  {
   "cell_type": "code",
   "execution_count": 18,
   "id": "6b292227",
   "metadata": {},
   "outputs": [
    {
     "data": {
      "text/plain": [
       "[['0', 'Will', '33', '385'],\n",
       " ['1', 'Jean-Luc', '26', '2'],\n",
       " ['2', 'Hugh', '55', '221']]"
      ]
     },
     "execution_count": 18,
     "metadata": {},
     "output_type": "execute_result"
    }
   ],
   "source": [
    "name_age_friends.take(3)"
   ]
  },
  {
   "cell_type": "code",
   "execution_count": 19,
   "id": "4bc3ab97",
   "metadata": {
    "scrolled": true
   },
   "outputs": [
    {
     "data": {
      "text/plain": [
       "[['2', 'Hugh', '55', '221'],\n",
       " ['5', 'Weyoun', '59', '318'],\n",
       " ['7', 'Will', '54', '307']]"
      ]
     },
     "execution_count": 19,
     "metadata": {},
     "output_type": "execute_result"
    }
   ],
   "source": [
    "fifty_friends = name_age_friends.filter(lambda x: 50 <= int(x[2]) <= 59)\n",
    "fifty_friends.take(3)"
   ]
  },
  {
   "cell_type": "code",
   "execution_count": 20,
   "id": "6d54f812",
   "metadata": {},
   "outputs": [
    {
     "data": {
      "text/plain": [
       "24360"
      ]
     },
     "execution_count": 20,
     "metadata": {},
     "output_type": "execute_result"
    }
   ],
   "source": [
    "fifty_total = fifty_friends.map(lambda x: int(x[3])).sum()\n",
    "fifty_total"
   ]
  },
  {
   "cell_type": "code",
   "execution_count": 21,
   "id": "7ac48873",
   "metadata": {},
   "outputs": [],
   "source": [
    "# 다른분꺼"
   ]
  },
  {
   "cell_type": "code",
   "execution_count": 29,
   "id": "1a7a3e22",
   "metadata": {},
   "outputs": [
    {
     "data": {
      "text/plain": [
       "[1, 2, 3, 4, 5, 6]"
      ]
     },
     "execution_count": 29,
     "metadata": {},
     "output_type": "execute_result"
    }
   ],
   "source": [
    "sort_age_info = name_age_friends.map(lambda x: int(x[2]) // 10 ).distinct().sortBy(lambda x: x).collect()\n",
    "sort_age_info"
   ]
  },
  {
   "cell_type": "code",
   "execution_count": 23,
   "id": "846488e8",
   "metadata": {
    "scrolled": true
   },
   "outputs": [
    {
     "name": "stdout",
     "output_type": "stream",
     "text": [
      "\n",
      "    **************************************************\n",
      "    10대의 친구 합계 : 5093명\n",
      "    10대의 친구 평균 : 268.1명\n",
      "    **************************************************\n",
      "\n",
      "    **************************************************\n",
      "    20대의 친구 합계 : 21503명\n",
      "    20대의 친구 평균 : 231.2명\n",
      "    **************************************************\n",
      "\n",
      "    **************************************************\n",
      "    30대의 친구 합계 : 22887명\n",
      "    30대의 친구 평균 : 235.9명\n",
      "    **************************************************\n",
      "\n",
      "    **************************************************\n",
      "    40대의 친구 합계 : 26455명\n",
      "    40대의 친구 평균 : 259.4명\n",
      "    **************************************************\n",
      "\n",
      "    **************************************************\n",
      "    50대의 친구 합계 : 24360명\n",
      "    50대의 친구 평균 : 259.1명\n",
      "    **************************************************\n",
      "\n",
      "    **************************************************\n",
      "    60대의 친구 합계 : 23968명\n",
      "    60대의 친구 평균 : 252.3명\n",
      "    **************************************************\n"
     ]
    }
   ],
   "source": [
    "#10대부터 60대까지 전체 친구 합계,평균\n",
    "for i in sort_age_info:\n",
    "    print(f'''\n",
    "    {'*'*50}\n",
    "    {str(i)+'0'}대의 친구 합계 : {name_age_friends.filter(lambda x : (int(x[2])//10) == i).map(lambda x : int(x[3])).sum()}명\n",
    "    {str(i)+'0'}대의 친구 평균 : {name_age_friends.filter(lambda x : (int(x[2])//10) == i).map(lambda x : int(x[3])).sum() /\n",
    "    name_age_friends.filter(lambda x : (int(x[2])//10) == i).map(lambda x : int(x[3])).count():.1f}명\n",
    "    {'*'*50}''')\n",
    "    "
   ]
  },
  {
   "cell_type": "code",
   "execution_count": 26,
   "id": "f983ca13",
   "metadata": {
    "scrolled": true
   },
   "outputs": [
    {
     "ename": "ValueError",
     "evalue": "Shape of passed values is (6, 1), indices imply (6, 2)",
     "output_type": "error",
     "traceback": [
      "\u001b[0;31m---------------------------------------------------------------------------\u001b[0m",
      "\u001b[0;31mValueError\u001b[0m                                Traceback (most recent call last)",
      "Cell \u001b[0;32mIn[26], line 4\u001b[0m\n\u001b[1;32m      1\u001b[0m \u001b[38;5;28;01mimport\u001b[39;00m \u001b[38;5;21;01mpandas\u001b[39;00m \u001b[38;5;28;01mas\u001b[39;00m \u001b[38;5;21;01mpd\u001b[39;00m\n\u001b[1;32m      2\u001b[0m \u001b[38;5;28;01mimport\u001b[39;00m \u001b[38;5;21;01mmatplotlib\u001b[39;00m\u001b[38;5;21;01m.\u001b[39;00m\u001b[38;5;21;01mpyplot\u001b[39;00m \u001b[38;5;28;01mas\u001b[39;00m \u001b[38;5;21;01mplt\u001b[39;00m\n\u001b[0;32m----> 4\u001b[0m df \u001b[38;5;241m=\u001b[39m \u001b[43mpd\u001b[49m\u001b[38;5;241;43m.\u001b[39;49m\u001b[43mDataFrame\u001b[49m\u001b[43m(\u001b[49m\u001b[43msort_age_info\u001b[49m\u001b[43m,\u001b[49m\u001b[43m \u001b[49m\u001b[43mcolumns\u001b[49m\u001b[43m \u001b[49m\u001b[38;5;241;43m=\u001b[39;49m\u001b[43m \u001b[49m\u001b[43m[\u001b[49m\u001b[38;5;124;43m'\u001b[39;49m\u001b[38;5;124;43mAge\u001b[39;49m\u001b[38;5;124;43m'\u001b[39;49m\u001b[43m,\u001b[49m\u001b[38;5;124;43m'\u001b[39;49m\u001b[38;5;124;43mNumber of Friends\u001b[39;49m\u001b[38;5;124;43m'\u001b[39;49m\u001b[43m]\u001b[49m\u001b[43m)\u001b[49m\n\u001b[1;32m      5\u001b[0m df\n",
      "File \u001b[0;32m/home/ubuntu/anaconda3/envs/spark_start/lib/python3.8/site-packages/pandas/core/frame.py:798\u001b[0m, in \u001b[0;36mDataFrame.__init__\u001b[0;34m(self, data, index, columns, dtype, copy)\u001b[0m\n\u001b[1;32m    790\u001b[0m         mgr \u001b[38;5;241m=\u001b[39m arrays_to_mgr(\n\u001b[1;32m    791\u001b[0m             arrays,\n\u001b[1;32m    792\u001b[0m             columns,\n\u001b[0;32m   (...)\u001b[0m\n\u001b[1;32m    795\u001b[0m             typ\u001b[38;5;241m=\u001b[39mmanager,\n\u001b[1;32m    796\u001b[0m         )\n\u001b[1;32m    797\u001b[0m     \u001b[38;5;28;01melse\u001b[39;00m:\n\u001b[0;32m--> 798\u001b[0m         mgr \u001b[38;5;241m=\u001b[39m \u001b[43mndarray_to_mgr\u001b[49m\u001b[43m(\u001b[49m\n\u001b[1;32m    799\u001b[0m \u001b[43m            \u001b[49m\u001b[43mdata\u001b[49m\u001b[43m,\u001b[49m\n\u001b[1;32m    800\u001b[0m \u001b[43m            \u001b[49m\u001b[43mindex\u001b[49m\u001b[43m,\u001b[49m\n\u001b[1;32m    801\u001b[0m \u001b[43m            \u001b[49m\u001b[43mcolumns\u001b[49m\u001b[43m,\u001b[49m\n\u001b[1;32m    802\u001b[0m \u001b[43m            \u001b[49m\u001b[43mdtype\u001b[49m\u001b[38;5;241;43m=\u001b[39;49m\u001b[43mdtype\u001b[49m\u001b[43m,\u001b[49m\n\u001b[1;32m    803\u001b[0m \u001b[43m            \u001b[49m\u001b[43mcopy\u001b[49m\u001b[38;5;241;43m=\u001b[39;49m\u001b[43mcopy\u001b[49m\u001b[43m,\u001b[49m\n\u001b[1;32m    804\u001b[0m \u001b[43m            \u001b[49m\u001b[43mtyp\u001b[49m\u001b[38;5;241;43m=\u001b[39;49m\u001b[43mmanager\u001b[49m\u001b[43m,\u001b[49m\n\u001b[1;32m    805\u001b[0m \u001b[43m        \u001b[49m\u001b[43m)\u001b[49m\n\u001b[1;32m    806\u001b[0m \u001b[38;5;28;01melse\u001b[39;00m:\n\u001b[1;32m    807\u001b[0m     mgr \u001b[38;5;241m=\u001b[39m dict_to_mgr(\n\u001b[1;32m    808\u001b[0m         {},\n\u001b[1;32m    809\u001b[0m         index,\n\u001b[0;32m   (...)\u001b[0m\n\u001b[1;32m    812\u001b[0m         typ\u001b[38;5;241m=\u001b[39mmanager,\n\u001b[1;32m    813\u001b[0m     )\n",
      "File \u001b[0;32m/home/ubuntu/anaconda3/envs/spark_start/lib/python3.8/site-packages/pandas/core/internals/construction.py:337\u001b[0m, in \u001b[0;36mndarray_to_mgr\u001b[0;34m(values, index, columns, dtype, copy, typ)\u001b[0m\n\u001b[1;32m    332\u001b[0m \u001b[38;5;66;03m# _prep_ndarraylike ensures that values.ndim == 2 at this point\u001b[39;00m\n\u001b[1;32m    333\u001b[0m index, columns \u001b[38;5;241m=\u001b[39m _get_axes(\n\u001b[1;32m    334\u001b[0m     values\u001b[38;5;241m.\u001b[39mshape[\u001b[38;5;241m0\u001b[39m], values\u001b[38;5;241m.\u001b[39mshape[\u001b[38;5;241m1\u001b[39m], index\u001b[38;5;241m=\u001b[39mindex, columns\u001b[38;5;241m=\u001b[39mcolumns\n\u001b[1;32m    335\u001b[0m )\n\u001b[0;32m--> 337\u001b[0m \u001b[43m_check_values_indices_shape_match\u001b[49m\u001b[43m(\u001b[49m\u001b[43mvalues\u001b[49m\u001b[43m,\u001b[49m\u001b[43m \u001b[49m\u001b[43mindex\u001b[49m\u001b[43m,\u001b[49m\u001b[43m \u001b[49m\u001b[43mcolumns\u001b[49m\u001b[43m)\u001b[49m\n\u001b[1;32m    339\u001b[0m \u001b[38;5;28;01mif\u001b[39;00m typ \u001b[38;5;241m==\u001b[39m \u001b[38;5;124m\"\u001b[39m\u001b[38;5;124marray\u001b[39m\u001b[38;5;124m\"\u001b[39m:\n\u001b[1;32m    340\u001b[0m     \u001b[38;5;28;01mif\u001b[39;00m \u001b[38;5;28missubclass\u001b[39m(values\u001b[38;5;241m.\u001b[39mdtype\u001b[38;5;241m.\u001b[39mtype, \u001b[38;5;28mstr\u001b[39m):\n",
      "File \u001b[0;32m/home/ubuntu/anaconda3/envs/spark_start/lib/python3.8/site-packages/pandas/core/internals/construction.py:408\u001b[0m, in \u001b[0;36m_check_values_indices_shape_match\u001b[0;34m(values, index, columns)\u001b[0m\n\u001b[1;32m    406\u001b[0m passed \u001b[38;5;241m=\u001b[39m values\u001b[38;5;241m.\u001b[39mshape\n\u001b[1;32m    407\u001b[0m implied \u001b[38;5;241m=\u001b[39m (\u001b[38;5;28mlen\u001b[39m(index), \u001b[38;5;28mlen\u001b[39m(columns))\n\u001b[0;32m--> 408\u001b[0m \u001b[38;5;28;01mraise\u001b[39;00m \u001b[38;5;167;01mValueError\u001b[39;00m(\u001b[38;5;124mf\u001b[39m\u001b[38;5;124m\"\u001b[39m\u001b[38;5;124mShape of passed values is \u001b[39m\u001b[38;5;132;01m{\u001b[39;00mpassed\u001b[38;5;132;01m}\u001b[39;00m\u001b[38;5;124m, indices imply \u001b[39m\u001b[38;5;132;01m{\u001b[39;00mimplied\u001b[38;5;132;01m}\u001b[39;00m\u001b[38;5;124m\"\u001b[39m)\n",
      "\u001b[0;31mValueError\u001b[0m: Shape of passed values is (6, 1), indices imply (6, 2)"
     ]
    }
   ],
   "source": [
    "import pandas as pd\n",
    "import matplotlib.pyplot as plt\n",
    "\n",
    "df = pd.DataFrame(name_age_friends, columns = ['Age','Number of Friends'])\n",
    "df"
   ]
  },
  {
   "cell_type": "code",
   "execution_count": null,
   "id": "2da176fe",
   "metadata": {},
   "outputs": [],
   "source": [
    "plt.figure(figsize=(8,4))\n",
    "x = df['Age']\n",
    "y = df['Number of friends']\n",
    "plt.bar(x,y)\n",
    "plt.show()"
   ]
  },
  {
   "cell_type": "code",
   "execution_count": null,
   "id": "32e90e26",
   "metadata": {},
   "outputs": [],
   "source": [
    "# 분석 주제 추가\n",
    "\n",
    "#같은 이름, 같은 나이 잃어버린 쌍둥이 찾아주기 :) \n",
    "\n",
    "# 1.이름과 나이 유저 페어링\n",
    "pairs_name_age = rdd.map(lambda x: (x[1],x[2]))\n",
    "#pairs_name_age.collect()\n",
    "\n",
    "#2. 카운트 \n",
    "counts = pairs_name_age.map(lambda x: (x,1))\n",
    "#counts.collect()\n",
    "\n",
    "#3. 같은 이름 찾기\n",
    "same_name_age = counts.reduceByKey(lambda x,y: x+y)\n",
    "#same_name_age.collect()\n",
    "\n",
    "# 중복 찾기\n",
    "find_lost_twins = same_name_age.filter(lambda x: x[1] > 1)\n",
    "find_lost_twins.collect() "
   ]
  },
  {
   "cell_type": "code",
   "execution_count": null,
   "id": "8f87917b",
   "metadata": {},
   "outputs": [],
   "source": [
    "# 아이디 중복은 없음! - 동일 인물 없음! \n",
    "duplicated_userid = rdd.map(lambda x: (x[0],1))\n",
    "result = duplicated_userid.reduceByKey(lambda x,y:x+y)\n",
    "result2 = result.filter(lambda x: x[1] > 1)\n",
    "result2.collect()"
   ]
  }
 ],
 "metadata": {
  "kernelspec": {
   "display_name": "Python (spark_start)",
   "language": "python",
   "name": "spark_start"
  },
  "language_info": {
   "codemirror_mode": {
    "name": "ipython",
    "version": 3
   },
   "file_extension": ".py",
   "mimetype": "text/x-python",
   "name": "python",
   "nbconvert_exporter": "python",
   "pygments_lexer": "ipython3",
   "version": "3.8.20"
  }
 },
 "nbformat": 4,
 "nbformat_minor": 5
}

{
 "cells": [
  {
   "cell_type": "code",
   "execution_count": 27,
   "id": "860b2c1d",
   "metadata": {},
   "outputs": [],
   "source": [
    "from pyspark.sql import SparkSession\n",
    "spark = SparkSession.builder.appName(\"241212_01_MLlib_Clustering\").getOrCreate()"
   ]
  },
  {
   "cell_type": "markdown",
   "id": "1038025d",
   "metadata": {},
   "source": [
    "## DATA LOAD"
   ]
  },
  {
   "cell_type": "code",
   "execution_count": 28,
   "id": "bf9859b2",
   "metadata": {},
   "outputs": [],
   "source": [
    "# 데이터 생성\n",
    "data = [\n",
    "    (0, 0, 4.0),  # user 0 rated item 0 with 4.0\n",
    "    (0, 1, 2.0),\n",
    "    (1, 1, 3.0),\n",
    "    (1, 2, 1.0),\n",
    "    (2, 0, 5.0),\n",
    "    (2, 2, 4.0)\n",
    "]\n",
    "\n",
    "columns = [\"user_id\",\"item_id\",\"rating\"]"
   ]
  },
  {
   "cell_type": "code",
   "execution_count": 29,
   "id": "cdc17f78",
   "metadata": {},
   "outputs": [
    {
     "name": "stdout",
     "output_type": "stream",
     "text": [
      "+-------+-------+------+\n",
      "|user_id|item_id|rating|\n",
      "+-------+-------+------+\n",
      "|      0|      0|   4.0|\n",
      "|      0|      1|   2.0|\n",
      "|      1|      1|   3.0|\n",
      "|      1|      2|   1.0|\n",
      "|      2|      0|   5.0|\n",
      "|      2|      2|   4.0|\n",
      "+-------+-------+------+\n",
      "\n"
     ]
    }
   ],
   "source": [
    "rating_df = spark.createDataFrame(data,columns)\n",
    "rating_df.show()"
   ]
  },
  {
   "cell_type": "markdown",
   "id": "46a642e3",
   "metadata": {},
   "source": [
    "## 전처리"
   ]
  },
  {
   "cell_type": "code",
   "execution_count": 30,
   "id": "816f93b1",
   "metadata": {},
   "outputs": [],
   "source": [
    "# user, item - rating 정보를 >> 사용자 그룹을 만든다. > 모델 > 예측 결과 - 그룹"
   ]
  },
  {
   "cell_type": "code",
   "execution_count": 31,
   "id": "1bf5039d",
   "metadata": {},
   "outputs": [],
   "source": [
    "# 피치 선택, 전처리 > 모델 학습 > 예측"
   ]
  },
  {
   "cell_type": "code",
   "execution_count": 32,
   "id": "b6761346",
   "metadata": {},
   "outputs": [
    {
     "name": "stderr",
     "output_type": "stream",
     "text": [
      "                                                                                \r"
     ]
    },
    {
     "name": "stdout",
     "output_type": "stream",
     "text": [
      "+-------+---+---+---+\n",
      "|user_id|  0|  1|  2|\n",
      "+-------+---+---+---+\n",
      "|      0|4.0|2.0|0.0|\n",
      "|      1|0.0|3.0|1.0|\n",
      "|      2|5.0|0.0|4.0|\n",
      "+-------+---+---+---+\n",
      "\n"
     ]
    }
   ],
   "source": [
    "user_item_matrix = rating_df.groupBy(\"user_id\").pivot(\"item_id\").avg(\"rating\").fillna(0)\n",
    "user_item_matrix.show()"
   ]
  },
  {
   "cell_type": "markdown",
   "id": "d9c53e0c",
   "metadata": {},
   "source": [
    "## feature vector"
   ]
  },
  {
   "cell_type": "code",
   "execution_count": 33,
   "id": "011a65e8",
   "metadata": {},
   "outputs": [],
   "source": [
    "from pyspark.ml.feature import VectorAssembler"
   ]
  },
  {
   "cell_type": "code",
   "execution_count": 34,
   "id": "b367f439",
   "metadata": {},
   "outputs": [],
   "source": [
    "assembler = VectorAssembler(inputCols=[\"0\",\"1\",\"2\"], outputCol='features')"
   ]
  },
  {
   "cell_type": "code",
   "execution_count": 35,
   "id": "9c256e2d",
   "metadata": {},
   "outputs": [
    {
     "name": "stderr",
     "output_type": "stream",
     "text": [
      "                                                                                \r"
     ]
    },
    {
     "name": "stdout",
     "output_type": "stream",
     "text": [
      "+-------+---+---+---+-------------+\n",
      "|user_id|  0|  1|  2|     features|\n",
      "+-------+---+---+---+-------------+\n",
      "|      0|4.0|2.0|0.0|[4.0,2.0,0.0]|\n",
      "|      1|0.0|3.0|1.0|[0.0,3.0,1.0]|\n",
      "|      2|5.0|0.0|4.0|[5.0,0.0,4.0]|\n",
      "+-------+---+---+---+-------------+\n",
      "\n"
     ]
    }
   ],
   "source": [
    "user_features = assembler.transform(user_item_matrix)\n",
    "user_features.show()"
   ]
  },
  {
   "cell_type": "markdown",
   "id": "1963d078",
   "metadata": {},
   "source": [
    "## 모델 생성 > 학습"
   ]
  },
  {
   "cell_type": "code",
   "execution_count": 36,
   "id": "c2a36798",
   "metadata": {},
   "outputs": [
    {
     "data": {
      "text/plain": [
       "KMeans_25ff45222aea"
      ]
     },
     "execution_count": 36,
     "metadata": {},
     "output_type": "execute_result"
    }
   ],
   "source": [
    "from pyspark.ml.clustering import KMeans\n",
    "\n",
    "#모델 생성\n",
    "kmeans = KMeans(k=2, seed=1, featuresCol=\"features\", predictionCol=\"cluster\")\n",
    "kmeans"
   ]
  },
  {
   "cell_type": "code",
   "execution_count": 37,
   "id": "2561cf9d",
   "metadata": {},
   "outputs": [
    {
     "name": "stderr",
     "output_type": "stream",
     "text": [
      "                                                                                \r"
     ]
    },
    {
     "data": {
      "text/plain": [
       "KMeansModel: uid=KMeans_25ff45222aea, k=2, distanceMeasure=euclidean, numFeatures=3"
      ]
     },
     "execution_count": 37,
     "metadata": {},
     "output_type": "execute_result"
    }
   ],
   "source": [
    "#모델 학습\n",
    "model = kmeans.fit(user_features)\n",
    "model"
   ]
  },
  {
   "cell_type": "code",
   "execution_count": 38,
   "id": "9757e72c",
   "metadata": {},
   "outputs": [],
   "source": [
    "#모델을 이용한 예측\n",
    "clusters = model.transform(user_features)"
   ]
  },
  {
   "cell_type": "code",
   "execution_count": 39,
   "id": "ff916811",
   "metadata": {},
   "outputs": [
    {
     "name": "stderr",
     "output_type": "stream",
     "text": [
      "                                                                                \r"
     ]
    },
    {
     "name": "stdout",
     "output_type": "stream",
     "text": [
      "+-------+---+---+---+-------------+-------+\n",
      "|user_id|  0|  1|  2|     features|cluster|\n",
      "+-------+---+---+---+-------------+-------+\n",
      "|      0|4.0|2.0|0.0|[4.0,2.0,0.0]|      0|\n",
      "|      1|0.0|3.0|1.0|[0.0,3.0,1.0]|      0|\n",
      "|      2|5.0|0.0|4.0|[5.0,0.0,4.0]|      1|\n",
      "+-------+---+---+---+-------------+-------+\n",
      "\n"
     ]
    }
   ],
   "source": [
    "# 유저의 클러스터링 결과\n",
    "clusters.show()"
   ]
  },
  {
   "cell_type": "code",
   "execution_count": null,
   "id": "e41f4034",
   "metadata": {},
   "outputs": [],
   "source": [
    "## 사용자 그룹화 : 유사한 취향의 사용자끼리 그룹으로 묶어주는 것\n",
    "## 아이템 그룹화 : 아이템 간의 군집화를 통해 사용자에게 추천해 줄 수 있음."
   ]
  },
  {
   "cell_type": "code",
   "execution_count": null,
   "id": "ee256fef",
   "metadata": {},
   "outputs": [],
   "source": []
  },
  {
   "cell_type": "code",
   "execution_count": null,
   "id": "7dae0c78",
   "metadata": {},
   "outputs": [],
   "source": []
  },
  {
   "cell_type": "code",
   "execution_count": null,
   "id": "2c307318",
   "metadata": {},
   "outputs": [],
   "source": []
  }
 ],
 "metadata": {
  "kernelspec": {
   "display_name": "Python (spark_start)",
   "language": "python",
   "name": "spark_start"
  },
  "language_info": {
   "codemirror_mode": {
    "name": "ipython",
    "version": 3
   },
   "file_extension": ".py",
   "mimetype": "text/x-python",
   "name": "python",
   "nbconvert_exporter": "python",
   "pygments_lexer": "ipython3",
   "version": "3.8.20"
  }
 },
 "nbformat": 4,
 "nbformat_minor": 5
}
